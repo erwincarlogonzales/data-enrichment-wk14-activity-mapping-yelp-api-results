{
 "cells": [
  {
   "cell_type": "code",
   "execution_count": 1,
   "id": "c9e43e48-dba2-40f2-8068-b14281ee5258",
   "metadata": {},
   "outputs": [],
   "source": [
    "# install\n",
    "!pip install yelpapi --quiet"
   ]
  },
  {
   "cell_type": "code",
   "execution_count": 2,
   "id": "c3c9264e-8979-41c2-9bc2-deee3d8c30a9",
   "metadata": {},
   "outputs": [],
   "source": [
    "# Standard Imports\n",
    "import numpy as np\n",
    "import pandas as pd\n",
    "import matplotlib.pyplot as plt\n",
    "import seaborn as sns\n",
    "\n",
    "# Additional Imports\n",
    "import os, json, math, time\n",
    "from yelpapi import YelpAPI\n",
    "from tqdm.notebook import tqdm_notebook"
   ]
  },
  {
   "cell_type": "code",
   "execution_count": 3,
   "id": "edb29076-bee2-4f55-af33-e6251ea1d945",
   "metadata": {},
   "outputs": [],
   "source": [
    "# file path creation\n",
    "relative_path = os.path.join('.secret', 'yelp_api.json')"
   ]
  },
  {
   "cell_type": "code",
   "execution_count": 4,
   "id": "d04e4b86-7edf-480d-92a0-9f177762b7ae",
   "metadata": {},
   "outputs": [],
   "source": [
    "# Load Yelp API credentials and instantiate YelpAPI object\n",
    "with open('.secret/yelp_api.json') as file:\n",
    "    yelp_credentials = json.load(file)\n",
    "    \n",
    "yelp_api = YelpAPI(yelp_credentials['api-key'], timeout_s=5.0)"
   ]
  },
  {
   "cell_type": "code",
   "execution_count": 5,
   "id": "0f40f0ce-70c6-4ebc-9bc4-ec564d0cf22b",
   "metadata": {},
   "outputs": [
    {
     "name": "stdout",
     "output_type": "stream",
     "text": [
      "Data will be saved to: /Data/results_SC_Sushi.json\n"
     ]
    }
   ],
   "source": [
    "# Define API call parameters and output file path\n",
    "LOCATION = 'Greenville, SC'\n",
    "TERM = 'Sushi'\n",
    "JSON_FILE = '/Data/results_SC_Sushi.json'\n",
    "\n",
    "# Display the file path where data will be saved\n",
    "print(f'Data will be saved to: {JSON_FILE}')"
   ]
  },
  {
   "cell_type": "code",
   "execution_count": 6,
   "id": "5ee22038-8b96-4e67-bbed-3ea19dc28528",
   "metadata": {},
   "outputs": [
    {
     "name": "stdout",
     "output_type": "stream",
     "text": [
      "[i] /Data/results_SC_Sushi.json already exists.\n"
     ]
    }
   ],
   "source": [
    "# Check if JSON_FILE exists and create it if it doesn't\n",
    "if not os.path.isfile(JSON_FILE):\n",
    "    \n",
    "    # Create the directory if it doesn't exist\n",
    "    os.makedirs(os.path.dirname(JSON_FILE), exist_ok=True)\n",
    "    \n",
    "    # Inform user and save an empty list to file\n",
    "    print(f'[i] {JSON_FILE} not found. Saving empty list to file.')\n",
    "    with open(JSON_FILE, 'w') as file:\n",
    "        json.dump([], file)\n",
    "else:\n",
    "    # Inform user if the file already exists\n",
    "    print(f'[i] {JSON_FILE} already exists.')"
   ]
  },
  {
   "cell_type": "code",
   "execution_count": 7,
   "id": "491d97bf-0b47-4dd6-961e-9bd633da63e4",
   "metadata": {},
   "outputs": [
    {
     "name": "stdout",
     "output_type": "stream",
     "text": [
      "- 0 previous results found.\n"
     ]
    }
   ],
   "source": [
    "# Load previous results and set offset based on the number of results\n",
    "with open(JSON_FILE, 'r') as file:\n",
    "    previous_results = json.load(file)\n",
    "\n",
    "n_results = len(previous_results)\n",
    "\n",
    "print(f'- {n_results} previous results found.')"
   ]
  },
  {
   "cell_type": "markdown",
   "id": "d71f719a-70ed-41a5-8f69-04f3e5e18d9a",
   "metadata": {},
   "source": [
    "## Making the first API call to get the first page of data Step-by-step"
   ]
  },
  {
   "cell_type": "code",
   "execution_count": 8,
   "id": "56bde3d3-37e5-42a2-b6d4-ed5fdefe80b9",
   "metadata": {},
   "outputs": [
    {
     "data": {
      "text/plain": [
       "dict_keys(['businesses', 'total', 'region'])"
      ]
     },
     "execution_count": 8,
     "metadata": {},
     "output_type": "execute_result"
    }
   ],
   "source": [
    "# use our yelp_api variable's search_query method to perform our API call\n",
    "results = yelp_api.search_query(location = LOCATION,\n",
    "                                term = TERM,\n",
    "                                offset = n_results)\n",
    "\n",
    "results.keys()"
   ]
  },
  {
   "cell_type": "code",
   "execution_count": 9,
   "id": "ec5f8f4a-3013-4e8d-9042-752b9597819d",
   "metadata": {},
   "outputs": [
    {
     "data": {
      "text/plain": [
       "110"
      ]
     },
     "execution_count": 9,
     "metadata": {},
     "output_type": "execute_result"
    }
   ],
   "source": [
    "## How many results total?\n",
    "total_results = results['total']\n",
    "\n",
    "total_results"
   ]
  },
  {
   "cell_type": "code",
   "execution_count": 10,
   "id": "7968bb64-2223-4cc8-8c3d-891fed7d82a5",
   "metadata": {},
   "outputs": [],
   "source": [
    "business_data = results['businesses']\n",
    "\n",
    "# specify the filename where you want to save the data\n",
    "json_file_path = JSON_FILE\n",
    "\n",
    "# save the business data to a JSON file\n",
    "with open(json_file_path, 'w') as file:\n",
    "    json.dump(business_data, file, indent = 4)"
   ]
  },
  {
   "cell_type": "code",
   "execution_count": 11,
   "id": "9cb090d3-7121-4a16-9c91-8e2ff039920b",
   "metadata": {},
   "outputs": [
    {
     "name": "stdout",
     "output_type": "stream",
     "text": [
      "number of results retrieved per page 20\n"
     ]
    }
   ],
   "source": [
    "## How many did we get the details for?\n",
    "results_per_page = len(business_data)\n",
    "print(f'number of results retrieved per page', results_per_page)"
   ]
  },
  {
   "cell_type": "code",
   "execution_count": 12,
   "id": "4cd1fc88-d9fe-4683-b682-a5524ee81564",
   "metadata": {},
   "outputs": [
    {
     "name": "stdout",
     "output_type": "stream",
     "text": [
      "Total number of pages: 6\n"
     ]
    }
   ],
   "source": [
    "# Use math.ceil to round up for the total number of pages of results.\n",
    "n_pages = math.ceil(total_results / results_per_page)\n",
    "\n",
    "print(f'Total number of pages: {n_pages}')"
   ]
  },
  {
   "cell_type": "markdown",
   "id": "9825c6a2-2eed-435e-9baa-47f7d921066f",
   "metadata": {},
   "source": [
    "## A more optimized solution"
   ]
  },
  {
   "cell_type": "code",
   "execution_count": 14,
   "id": "00a2eb28-4198-4ce1-acd3-5add2389eccb",
   "metadata": {},
   "outputs": [
    {
     "name": "stdout",
     "output_type": "stream",
     "text": [
      "Number of results retrieved per page: 20\n",
      "Total number of pages: 6\n"
     ]
    }
   ],
   "source": [
    "results = yelp_api.search_query(location=LOCATION, term=TERM, offset=n_results)\n",
    "\n",
    "total_results = results['total']\n",
    "business_data = results['businesses']\n",
    "\n",
    "with open(JSON_FILE, 'w') as file:\n",
    "    json.dump(business_data, file, indent=4)\n",
    "\n",
    "results_per_page = len(business_data)\n",
    "\n",
    "# Check if there are any results per page to avoid division by zero\n",
    "if results_per_page > 0:\n",
    "    n_pages = math.ceil(total_results / results_per_page)\n",
    "else:\n",
    "    n_pages = 0  # No pages if there are no results\n",
    "\n",
    "print(f'Number of results retrieved per page: {results_per_page}')\n",
    "print(f'Total number of pages: {n_pages}')\n",
    "\n",
    "# Additional handling for when there are no business results\n",
    "if n_pages == 0:\n",
    "    print(\"No business data found for the given search parameters.\")\n"
   ]
  },
  {
   "cell_type": "code",
   "execution_count": 16,
   "id": "46e04c48-b6d1-4515-80ea-bb810007bb28",
   "metadata": {},
   "outputs": [
    {
     "data": {
      "application/vnd.jupyter.widget-view+json": {
       "model_id": "2f0fc63e58df4a88a2ae1c12c2544cdc",
       "version_major": 2,
       "version_minor": 0
      },
      "text/plain": [
       "  0%|          | 0/110 [00:00<?, ?it/s]"
      ]
     },
     "metadata": {},
     "output_type": "display_data"
    }
   ],
   "source": [
    "# Assuming `results_per_call` and `total_iterations` are correctly calculated before this snippet.\n",
    "for i in tqdm_notebook(range(1, total_results + 1)):\n",
    "    try:\n",
    "        time.sleep(0.2)  # Short delay to respect API rate limits\n",
    "        \n",
    "        # Load existing results to append new data\n",
    "        with open(JSON_FILE, 'r') as file:\n",
    "            previous_results = json.load(file)\n",
    "\n",
    "        # Fetch new results using the current length of previous_results as the offset\n",
    "        new_results = yelp_api.search_query(location=LOCATION, term=TERM, offset=len(previous_results))\n",
    "\n",
    "        # Append and save the updated results\n",
    "        updated_results = previous_results + new_results['businesses']\n",
    "        with open(JSON_FILE, 'w') as file:\n",
    "            json.dump(updated_results, file)\n",
    "\n",
    "    except Exception as e:\n",
    "        if 'Too Many Requests for url' in str(e):\n",
    "            print('Rate limit exceeded. Stopping data collection.')\n",
    "            break  # Exit loop if rate limit is exceeded\n",
    "        else:\n",
    "            print(f'An error occurred: {e}')\n",
    "            continue  # Continue to next iteration in case of other errors"
   ]
  },
  {
   "cell_type": "code",
   "execution_count": 18,
   "id": "b7a34fe0-a56e-40c9-a488-aba817407f1c",
   "metadata": {},
   "outputs": [
    {
     "data": {
      "text/html": [
       "<div>\n",
       "<style scoped>\n",
       "    .dataframe tbody tr th:only-of-type {\n",
       "        vertical-align: middle;\n",
       "    }\n",
       "\n",
       "    .dataframe tbody tr th {\n",
       "        vertical-align: top;\n",
       "    }\n",
       "\n",
       "    .dataframe thead th {\n",
       "        text-align: right;\n",
       "    }\n",
       "</style>\n",
       "<table border=\"1\" class=\"dataframe\">\n",
       "  <thead>\n",
       "    <tr style=\"text-align: right;\">\n",
       "      <th></th>\n",
       "      <th>id</th>\n",
       "      <th>alias</th>\n",
       "      <th>name</th>\n",
       "      <th>image_url</th>\n",
       "      <th>is_closed</th>\n",
       "      <th>url</th>\n",
       "      <th>review_count</th>\n",
       "      <th>categories</th>\n",
       "      <th>rating</th>\n",
       "      <th>coordinates</th>\n",
       "      <th>transactions</th>\n",
       "      <th>location</th>\n",
       "      <th>phone</th>\n",
       "      <th>display_phone</th>\n",
       "      <th>distance</th>\n",
       "      <th>price</th>\n",
       "    </tr>\n",
       "  </thead>\n",
       "  <tbody>\n",
       "    <tr>\n",
       "      <th>0</th>\n",
       "      <td>2jXS4oZkMhAONtd2j7L5Yg</td>\n",
       "      <td>chef-21-sushi-burger-and-korean-bbq-greenville-3</td>\n",
       "      <td>Chef 21 Sushi Burger &amp; Korean BBQ</td>\n",
       "      <td>https://s3-media4.fl.yelpcdn.com/bphoto/TgP5gY...</td>\n",
       "      <td>False</td>\n",
       "      <td>https://www.yelp.com/biz/chef-21-sushi-burger-...</td>\n",
       "      <td>36</td>\n",
       "      <td>[{'alias': 'korean', 'title': 'Korean'}, {'ali...</td>\n",
       "      <td>4.5</td>\n",
       "      <td>{'latitude': 34.847671, 'longitude': -82.394229}</td>\n",
       "      <td>[delivery, pickup]</td>\n",
       "      <td>{'address1': '500 E McBee Ave', 'address2': 'S...</td>\n",
       "      <td>+18642633018</td>\n",
       "      <td>(864) 263-3018</td>\n",
       "      <td>3341.861901</td>\n",
       "      <td>NaN</td>\n",
       "    </tr>\n",
       "    <tr>\n",
       "      <th>1</th>\n",
       "      <td>RGRk1ioORwm_FIX8PM732Q</td>\n",
       "      <td>konnichiwa-greenville</td>\n",
       "      <td>Konnichiwa</td>\n",
       "      <td>https://s3-media3.fl.yelpcdn.com/bphoto/p47H0_...</td>\n",
       "      <td>False</td>\n",
       "      <td>https://www.yelp.com/biz/konnichiwa-greenville...</td>\n",
       "      <td>68</td>\n",
       "      <td>[{'alias': 'sushi', 'title': 'Sushi Bars'}, {'...</td>\n",
       "      <td>4.1</td>\n",
       "      <td>{'latitude': 34.845952342825115, 'longitude': ...</td>\n",
       "      <td>[]</td>\n",
       "      <td>{'address1': '101 Falls Park Dr', 'address2': ...</td>\n",
       "      <td>+18642524436</td>\n",
       "      <td>(864) 252-4436</td>\n",
       "      <td>4184.255183</td>\n",
       "      <td>NaN</td>\n",
       "    </tr>\n",
       "    <tr>\n",
       "      <th>2</th>\n",
       "      <td>zG_XOAFi9Y560WJ1RvghBw</td>\n",
       "      <td>sushi-masa-japanese-restaurant-greenville</td>\n",
       "      <td>Sushi-Masa Japanese Restaurant</td>\n",
       "      <td>https://s3-media1.fl.yelpcdn.com/bphoto/zsRavZ...</td>\n",
       "      <td>False</td>\n",
       "      <td>https://www.yelp.com/biz/sushi-masa-japanese-r...</td>\n",
       "      <td>161</td>\n",
       "      <td>[{'alias': 'sushi', 'title': 'Sushi Bars'}]</td>\n",
       "      <td>4.4</td>\n",
       "      <td>{'latitude': 34.8512725830078, 'longitude': -8...</td>\n",
       "      <td>[delivery]</td>\n",
       "      <td>{'address1': '8590 Pelham Rd', 'address2': 'St...</td>\n",
       "      <td>+18642882227</td>\n",
       "      <td>(864) 288-2227</td>\n",
       "      <td>11481.830881</td>\n",
       "      <td>$$</td>\n",
       "    </tr>\n",
       "    <tr>\n",
       "      <th>3</th>\n",
       "      <td>7cJxOV-ANX1qLThK3yV96w</td>\n",
       "      <td>otto-izakaya-greenville-4</td>\n",
       "      <td>Otto Izakaya</td>\n",
       "      <td>https://s3-media1.fl.yelpcdn.com/bphoto/TdPhFy...</td>\n",
       "      <td>False</td>\n",
       "      <td>https://www.yelp.com/biz/otto-izakaya-greenvil...</td>\n",
       "      <td>448</td>\n",
       "      <td>[{'alias': 'japanese', 'title': 'Japanese'}, {...</td>\n",
       "      <td>4.2</td>\n",
       "      <td>{'latitude': 34.8228218820722, 'longitude': -8...</td>\n",
       "      <td>[delivery]</td>\n",
       "      <td>{'address1': '15 Market Point Dr', 'address2':...</td>\n",
       "      <td>+18645688009</td>\n",
       "      <td>(864) 568-8009</td>\n",
       "      <td>5933.485357</td>\n",
       "      <td>$$</td>\n",
       "    </tr>\n",
       "    <tr>\n",
       "      <th>4</th>\n",
       "      <td>Kx1x7Kf6C2gtogQErWSu0A</td>\n",
       "      <td>o-ku-greenville</td>\n",
       "      <td>O-Ku</td>\n",
       "      <td>https://s3-media2.fl.yelpcdn.com/bphoto/7dR0xy...</td>\n",
       "      <td>False</td>\n",
       "      <td>https://www.yelp.com/biz/o-ku-greenville?adjus...</td>\n",
       "      <td>38</td>\n",
       "      <td>[{'alias': 'sushi', 'title': 'Sushi Bars'}, {'...</td>\n",
       "      <td>3.9</td>\n",
       "      <td>{'latitude': 34.847954222223294, 'longitude': ...</td>\n",
       "      <td>[]</td>\n",
       "      <td>{'address1': '30 W Broad St', 'address2': None...</td>\n",
       "      <td>+18643264812</td>\n",
       "      <td>(864) 326-4812</td>\n",
       "      <td>3931.009612</td>\n",
       "      <td>NaN</td>\n",
       "    </tr>\n",
       "  </tbody>\n",
       "</table>\n",
       "</div>"
      ],
      "text/plain": [
       "                       id                                             alias  \\\n",
       "0  2jXS4oZkMhAONtd2j7L5Yg  chef-21-sushi-burger-and-korean-bbq-greenville-3   \n",
       "1  RGRk1ioORwm_FIX8PM732Q                             konnichiwa-greenville   \n",
       "2  zG_XOAFi9Y560WJ1RvghBw         sushi-masa-japanese-restaurant-greenville   \n",
       "3  7cJxOV-ANX1qLThK3yV96w                         otto-izakaya-greenville-4   \n",
       "4  Kx1x7Kf6C2gtogQErWSu0A                                   o-ku-greenville   \n",
       "\n",
       "                                name  \\\n",
       "0  Chef 21 Sushi Burger & Korean BBQ   \n",
       "1                         Konnichiwa   \n",
       "2     Sushi-Masa Japanese Restaurant   \n",
       "3                       Otto Izakaya   \n",
       "4                               O-Ku   \n",
       "\n",
       "                                           image_url  is_closed  \\\n",
       "0  https://s3-media4.fl.yelpcdn.com/bphoto/TgP5gY...      False   \n",
       "1  https://s3-media3.fl.yelpcdn.com/bphoto/p47H0_...      False   \n",
       "2  https://s3-media1.fl.yelpcdn.com/bphoto/zsRavZ...      False   \n",
       "3  https://s3-media1.fl.yelpcdn.com/bphoto/TdPhFy...      False   \n",
       "4  https://s3-media2.fl.yelpcdn.com/bphoto/7dR0xy...      False   \n",
       "\n",
       "                                                 url  review_count  \\\n",
       "0  https://www.yelp.com/biz/chef-21-sushi-burger-...            36   \n",
       "1  https://www.yelp.com/biz/konnichiwa-greenville...            68   \n",
       "2  https://www.yelp.com/biz/sushi-masa-japanese-r...           161   \n",
       "3  https://www.yelp.com/biz/otto-izakaya-greenvil...           448   \n",
       "4  https://www.yelp.com/biz/o-ku-greenville?adjus...            38   \n",
       "\n",
       "                                          categories  rating  \\\n",
       "0  [{'alias': 'korean', 'title': 'Korean'}, {'ali...     4.5   \n",
       "1  [{'alias': 'sushi', 'title': 'Sushi Bars'}, {'...     4.1   \n",
       "2        [{'alias': 'sushi', 'title': 'Sushi Bars'}]     4.4   \n",
       "3  [{'alias': 'japanese', 'title': 'Japanese'}, {...     4.2   \n",
       "4  [{'alias': 'sushi', 'title': 'Sushi Bars'}, {'...     3.9   \n",
       "\n",
       "                                         coordinates        transactions  \\\n",
       "0   {'latitude': 34.847671, 'longitude': -82.394229}  [delivery, pickup]   \n",
       "1  {'latitude': 34.845952342825115, 'longitude': ...                  []   \n",
       "2  {'latitude': 34.8512725830078, 'longitude': -8...          [delivery]   \n",
       "3  {'latitude': 34.8228218820722, 'longitude': -8...          [delivery]   \n",
       "4  {'latitude': 34.847954222223294, 'longitude': ...                  []   \n",
       "\n",
       "                                            location         phone  \\\n",
       "0  {'address1': '500 E McBee Ave', 'address2': 'S...  +18642633018   \n",
       "1  {'address1': '101 Falls Park Dr', 'address2': ...  +18642524436   \n",
       "2  {'address1': '8590 Pelham Rd', 'address2': 'St...  +18642882227   \n",
       "3  {'address1': '15 Market Point Dr', 'address2':...  +18645688009   \n",
       "4  {'address1': '30 W Broad St', 'address2': None...  +18643264812   \n",
       "\n",
       "    display_phone      distance price  \n",
       "0  (864) 263-3018   3341.861901   NaN  \n",
       "1  (864) 252-4436   4184.255183   NaN  \n",
       "2  (864) 288-2227  11481.830881    $$  \n",
       "3  (864) 568-8009   5933.485357    $$  \n",
       "4  (864) 326-4812   3931.009612   NaN  "
      ]
     },
     "metadata": {},
     "output_type": "display_data"
    },
    {
     "data": {
      "text/html": [
       "<div>\n",
       "<style scoped>\n",
       "    .dataframe tbody tr th:only-of-type {\n",
       "        vertical-align: middle;\n",
       "    }\n",
       "\n",
       "    .dataframe tbody tr th {\n",
       "        vertical-align: top;\n",
       "    }\n",
       "\n",
       "    .dataframe thead th {\n",
       "        text-align: right;\n",
       "    }\n",
       "</style>\n",
       "<table border=\"1\" class=\"dataframe\">\n",
       "  <thead>\n",
       "    <tr style=\"text-align: right;\">\n",
       "      <th></th>\n",
       "      <th>id</th>\n",
       "      <th>alias</th>\n",
       "      <th>name</th>\n",
       "      <th>image_url</th>\n",
       "      <th>is_closed</th>\n",
       "      <th>url</th>\n",
       "      <th>review_count</th>\n",
       "      <th>categories</th>\n",
       "      <th>rating</th>\n",
       "      <th>coordinates</th>\n",
       "      <th>transactions</th>\n",
       "      <th>location</th>\n",
       "      <th>phone</th>\n",
       "      <th>display_phone</th>\n",
       "      <th>distance</th>\n",
       "      <th>price</th>\n",
       "    </tr>\n",
       "  </thead>\n",
       "  <tbody>\n",
       "    <tr>\n",
       "      <th>105</th>\n",
       "      <td>xQZIvcjkH2R14yaHr2qQYQ</td>\n",
       "      <td>the-cheesecake-factory-greenville-2</td>\n",
       "      <td>The Cheesecake Factory</td>\n",
       "      <td>https://s3-media3.fl.yelpcdn.com/bphoto/Wk5Aul...</td>\n",
       "      <td>False</td>\n",
       "      <td>https://www.yelp.com/biz/the-cheesecake-factor...</td>\n",
       "      <td>470</td>\n",
       "      <td>[{'alias': 'desserts', 'title': 'Desserts'}, {...</td>\n",
       "      <td>3.1</td>\n",
       "      <td>{'latitude': 34.8499166, 'longitude': -82.3335...</td>\n",
       "      <td>[delivery]</td>\n",
       "      <td>{'address1': '700 Haywood Mall', 'address2': '...</td>\n",
       "      <td>+18642884444</td>\n",
       "      <td>(864) 288-4444</td>\n",
       "      <td>2209.333296</td>\n",
       "      <td>$$</td>\n",
       "    </tr>\n",
       "    <tr>\n",
       "      <th>106</th>\n",
       "      <td>xb9QSdbk63Ani2-S5MrIHQ</td>\n",
       "      <td>harris-teeter-greenville-6</td>\n",
       "      <td>Harris Teeter</td>\n",
       "      <td>https://s3-media3.fl.yelpcdn.com/bphoto/ZelRSg...</td>\n",
       "      <td>False</td>\n",
       "      <td>https://www.yelp.com/biz/harris-teeter-greenvi...</td>\n",
       "      <td>27</td>\n",
       "      <td>[{'alias': 'grocery', 'title': 'Grocery'}, {'a...</td>\n",
       "      <td>3.6</td>\n",
       "      <td>{'latitude': 34.8279736, 'longitude': -82.3987...</td>\n",
       "      <td>[]</td>\n",
       "      <td>{'address1': '1720 Augusta St', 'address2': ''...</td>\n",
       "      <td>+18649778041</td>\n",
       "      <td>(864) 977-8041</td>\n",
       "      <td>4335.688854</td>\n",
       "      <td>$$</td>\n",
       "    </tr>\n",
       "    <tr>\n",
       "      <th>107</th>\n",
       "      <td>zTTrMt6nvB_bw0j3RUEsLA</td>\n",
       "      <td>new-china-greer</td>\n",
       "      <td>New China</td>\n",
       "      <td>https://s3-media2.fl.yelpcdn.com/bphoto/IGpt7F...</td>\n",
       "      <td>False</td>\n",
       "      <td>https://www.yelp.com/biz/new-china-greer?adjus...</td>\n",
       "      <td>18</td>\n",
       "      <td>[{'alias': 'chinese', 'title': 'Chinese'}]</td>\n",
       "      <td>2.4</td>\n",
       "      <td>{'latitude': 34.9476509, 'longitude': -82.2240...</td>\n",
       "      <td>[delivery]</td>\n",
       "      <td>{'address1': '614 N Main St', 'address2': '', ...</td>\n",
       "      <td>+18648778885</td>\n",
       "      <td>(864) 877-8885</td>\n",
       "      <td>16504.999220</td>\n",
       "      <td>$</td>\n",
       "    </tr>\n",
       "    <tr>\n",
       "      <th>108</th>\n",
       "      <td>GDPBZJ1tDjmHC3v4uxVQzw</td>\n",
       "      <td>publix-super-market-greer-greer</td>\n",
       "      <td>Publix Super Market - Greer</td>\n",
       "      <td>https://s3-media1.fl.yelpcdn.com/bphoto/BzPvjL...</td>\n",
       "      <td>False</td>\n",
       "      <td>https://www.yelp.com/biz/publix-super-market-g...</td>\n",
       "      <td>17</td>\n",
       "      <td>[{'alias': 'grocery', 'title': 'Grocery'}]</td>\n",
       "      <td>4.1</td>\n",
       "      <td>{'latitude': 34.8715143081717, 'longitude': -8...</td>\n",
       "      <td>[]</td>\n",
       "      <td>{'address1': '411 The Pkwy', 'address2': '', '...</td>\n",
       "      <td>+18648487820</td>\n",
       "      <td>(864) 848-7820</td>\n",
       "      <td>9662.818662</td>\n",
       "      <td>$$</td>\n",
       "    </tr>\n",
       "    <tr>\n",
       "      <th>109</th>\n",
       "      <td>_BLlWxSpx1mRGW9eFutYdQ</td>\n",
       "      <td>dairy-queen-grill-and-chill-mauldin-2</td>\n",
       "      <td>Dairy Queen Grill &amp; Chill</td>\n",
       "      <td>https://s3-media1.fl.yelpcdn.com/bphoto/9AJb5X...</td>\n",
       "      <td>False</td>\n",
       "      <td>https://www.yelp.com/biz/dairy-queen-grill-and...</td>\n",
       "      <td>22</td>\n",
       "      <td>[{'alias': 'hotdogs', 'title': 'Fast Food'}, {...</td>\n",
       "      <td>3.1</td>\n",
       "      <td>{'latitude': 34.780454197801, 'longitude': -82...</td>\n",
       "      <td>[pickup, delivery]</td>\n",
       "      <td>{'address1': '112 N Main St', 'address2': None...</td>\n",
       "      <td>+18643739896</td>\n",
       "      <td>(864) 373-9896</td>\n",
       "      <td>8623.432240</td>\n",
       "      <td>$</td>\n",
       "    </tr>\n",
       "  </tbody>\n",
       "</table>\n",
       "</div>"
      ],
      "text/plain": [
       "                         id                                  alias  \\\n",
       "105  xQZIvcjkH2R14yaHr2qQYQ    the-cheesecake-factory-greenville-2   \n",
       "106  xb9QSdbk63Ani2-S5MrIHQ             harris-teeter-greenville-6   \n",
       "107  zTTrMt6nvB_bw0j3RUEsLA                        new-china-greer   \n",
       "108  GDPBZJ1tDjmHC3v4uxVQzw        publix-super-market-greer-greer   \n",
       "109  _BLlWxSpx1mRGW9eFutYdQ  dairy-queen-grill-and-chill-mauldin-2   \n",
       "\n",
       "                            name  \\\n",
       "105       The Cheesecake Factory   \n",
       "106                Harris Teeter   \n",
       "107                    New China   \n",
       "108  Publix Super Market - Greer   \n",
       "109    Dairy Queen Grill & Chill   \n",
       "\n",
       "                                             image_url  is_closed  \\\n",
       "105  https://s3-media3.fl.yelpcdn.com/bphoto/Wk5Aul...      False   \n",
       "106  https://s3-media3.fl.yelpcdn.com/bphoto/ZelRSg...      False   \n",
       "107  https://s3-media2.fl.yelpcdn.com/bphoto/IGpt7F...      False   \n",
       "108  https://s3-media1.fl.yelpcdn.com/bphoto/BzPvjL...      False   \n",
       "109  https://s3-media1.fl.yelpcdn.com/bphoto/9AJb5X...      False   \n",
       "\n",
       "                                                   url  review_count  \\\n",
       "105  https://www.yelp.com/biz/the-cheesecake-factor...           470   \n",
       "106  https://www.yelp.com/biz/harris-teeter-greenvi...            27   \n",
       "107  https://www.yelp.com/biz/new-china-greer?adjus...            18   \n",
       "108  https://www.yelp.com/biz/publix-super-market-g...            17   \n",
       "109  https://www.yelp.com/biz/dairy-queen-grill-and...            22   \n",
       "\n",
       "                                            categories  rating  \\\n",
       "105  [{'alias': 'desserts', 'title': 'Desserts'}, {...     3.1   \n",
       "106  [{'alias': 'grocery', 'title': 'Grocery'}, {'a...     3.6   \n",
       "107         [{'alias': 'chinese', 'title': 'Chinese'}]     2.4   \n",
       "108         [{'alias': 'grocery', 'title': 'Grocery'}]     4.1   \n",
       "109  [{'alias': 'hotdogs', 'title': 'Fast Food'}, {...     3.1   \n",
       "\n",
       "                                           coordinates        transactions  \\\n",
       "105  {'latitude': 34.8499166, 'longitude': -82.3335...          [delivery]   \n",
       "106  {'latitude': 34.8279736, 'longitude': -82.3987...                  []   \n",
       "107  {'latitude': 34.9476509, 'longitude': -82.2240...          [delivery]   \n",
       "108  {'latitude': 34.8715143081717, 'longitude': -8...                  []   \n",
       "109  {'latitude': 34.780454197801, 'longitude': -82...  [pickup, delivery]   \n",
       "\n",
       "                                              location         phone  \\\n",
       "105  {'address1': '700 Haywood Mall', 'address2': '...  +18642884444   \n",
       "106  {'address1': '1720 Augusta St', 'address2': ''...  +18649778041   \n",
       "107  {'address1': '614 N Main St', 'address2': '', ...  +18648778885   \n",
       "108  {'address1': '411 The Pkwy', 'address2': '', '...  +18648487820   \n",
       "109  {'address1': '112 N Main St', 'address2': None...  +18643739896   \n",
       "\n",
       "      display_phone      distance price  \n",
       "105  (864) 288-4444   2209.333296    $$  \n",
       "106  (864) 977-8041   4335.688854    $$  \n",
       "107  (864) 877-8885  16504.999220     $  \n",
       "108  (864) 848-7820   9662.818662    $$  \n",
       "109  (864) 373-9896   8623.432240     $  "
      ]
     },
     "metadata": {},
     "output_type": "display_data"
    },
    {
     "name": "stdout",
     "output_type": "stream",
     "text": [
      "\n",
      "\n",
      "Number of duplicate IDs: 0\n"
     ]
    }
   ],
   "source": [
    "# Load the final JSON file into a DataFrame\n",
    "df = pd.read_json(JSON_FILE)\n",
    "\n",
    "# Display the first and last few rows of the DataFrame\n",
    "display(df.head(), df.tail())\n",
    "\n",
    "# Check for duplicate entries based on the 'id' column\n",
    "duplicate_count = df.duplicated(subset='id').sum()\n",
    "\n",
    "print('\\n')\n",
    "print(f'Number of duplicate IDs: {duplicate_count}')"
   ]
  },
  {
   "cell_type": "code",
   "execution_count": 19,
   "id": "ee8a9d52-b35a-43f2-8148-03031ba558d0",
   "metadata": {},
   "outputs": [],
   "source": [
    "# Specify directory and base filename\n",
    "directory = 'Data'\n",
    "filename = 'final_results_SC_Sushi.csv.gz'  # Include .csv.gz extension here\n",
    "path = os.path.join(directory, filename)\n",
    "\n",
    "# Ensure that the 'Data' directory exists\n",
    "os.makedirs(directory, exist_ok=True)\n",
    "\n",
    "# Save DataFrame as a compressed CSV file (to save space)\n",
    "df.to_csv(path, compression='gzip', index=False)"
   ]
  },
  {
   "cell_type": "code",
   "execution_count": 24,
   "id": "2b7cde07-3dff-4b2d-91b8-89bf683ef1d4",
   "metadata": {},
   "outputs": [],
   "source": [
    "# Specify the correct JSON file name\n",
    "json_file = 'Data/final_results_SC_Sushi.json'\n",
    "\n",
    "# Save the DataFrame as JSON with optimal orientation for line-delimited JSON\n",
    "df.to_json(json_file, orient='records', lines=True)"
   ]
  },
  {
   "cell_type": "code",
   "execution_count": 25,
   "id": "a833759c-4c89-4b77-b06c-99cb9a8632b3",
   "metadata": {},
   "outputs": [],
   "source": [
    "# Convert and Save as .CSV.GZ by replacing the file extension\n",
    "csv_gz_file = json_file.replace('.json', '.csv.gz')\n",
    "\n",
    "# Save the DataFrame as a compressed CSV without the index\n",
    "df.to_csv(csv_gz_file, compression='gzip', index=False)"
   ]
  },
  {
   "cell_type": "code",
   "execution_count": 23,
   "id": "33724e85-83b1-4316-a206-505ca7bc4978",
   "metadata": {},
   "outputs": [
    {
     "name": "stdout",
     "output_type": "stream",
     "text": [
      "JSON FILE: 102,201 Bytes\n",
      "CSV.GZ FILE: 16,014 Bytes\n",
      "The csv.gz file is 6.38 times smaller than the JSON file.\n"
     ]
    }
   ],
   "source": [
    "# Compare File Sizes to demonstrate the efficiency of compression\n",
    "if os.path.exists(json_file) and os.path.exists(csv_gz_file):\n",
    "    size_json = os.path.getsize(json_file)\n",
    "    size_csv_gz = os.path.getsize(csv_gz_file)\n",
    "\n",
    "    print(f'JSON FILE: {size_json:,} Bytes')\n",
    "    print(f'CSV.GZ FILE: {size_csv_gz:,} Bytes')\n",
    "\n",
    "    # Calculate and display the compression ratio if the .csv.gz file is not empty\n",
    "    if size_csv_gz > 0:\n",
    "        compression_ratio = size_json / size_csv_gz\n",
    "        print(f'The csv.gz file is {compression_ratio:.2f} times smaller than the JSON file.')\n",
    "    else:\n",
    "        print(\"CSV.GZ file size is 0, cannot compare sizes.\")\n",
    "else:\n",
    "    print(\"One or both files do not exist, check file paths.\")"
   ]
  }
 ],
 "metadata": {
  "kernelspec": {
   "display_name": "Python (dojo-env)",
   "language": "python",
   "name": "dojo-env"
  },
  "language_info": {
   "codemirror_mode": {
    "name": "ipython",
    "version": 3
   },
   "file_extension": ".py",
   "mimetype": "text/x-python",
   "name": "python",
   "nbconvert_exporter": "python",
   "pygments_lexer": "ipython3",
   "version": "3.10.10"
  },
  "widgets": {
   "application/vnd.jupyter.widget-state+json": {
    "state": {
     "1410b04015434bc8857f552f7561222e": {
      "model_module": "@jupyter-widgets/controls",
      "model_module_version": "2.0.0",
      "model_name": "HTMLModel",
      "state": {
       "layout": "IPY_MODEL_871e38046a03417d9d61d4ed3eadd1bc",
       "style": "IPY_MODEL_5d0b7da42da140ca964d6a7c9faa69c6",
       "value": " 110/110 [01:10&lt;00:00,  1.63it/s]"
      }
     },
     "22be35ab3e9341cd9fe0103836188798": {
      "model_module": "@jupyter-widgets/controls",
      "model_module_version": "2.0.0",
      "model_name": "HTMLStyleModel",
      "state": {
       "description_width": "",
       "font_size": null,
       "text_color": null
      }
     },
     "2f0fc63e58df4a88a2ae1c12c2544cdc": {
      "model_module": "@jupyter-widgets/controls",
      "model_module_version": "2.0.0",
      "model_name": "HBoxModel",
      "state": {
       "children": [
        "IPY_MODEL_d9b357cd03164b3b8db7a73ee577de2f",
        "IPY_MODEL_d3d7b5cf48b843fdbaea914d83aeeffc",
        "IPY_MODEL_1410b04015434bc8857f552f7561222e"
       ],
       "layout": "IPY_MODEL_5d86d869375b44b29e16d26ea75b76b7"
      }
     },
     "44810e310b3044ebaa93d20b393b0316": {
      "model_module": "@jupyter-widgets/base",
      "model_module_version": "2.0.0",
      "model_name": "LayoutModel",
      "state": {}
     },
     "5d0b7da42da140ca964d6a7c9faa69c6": {
      "model_module": "@jupyter-widgets/controls",
      "model_module_version": "2.0.0",
      "model_name": "HTMLStyleModel",
      "state": {
       "description_width": "",
       "font_size": null,
       "text_color": null
      }
     },
     "5d86d869375b44b29e16d26ea75b76b7": {
      "model_module": "@jupyter-widgets/base",
      "model_module_version": "2.0.0",
      "model_name": "LayoutModel",
      "state": {}
     },
     "871e38046a03417d9d61d4ed3eadd1bc": {
      "model_module": "@jupyter-widgets/base",
      "model_module_version": "2.0.0",
      "model_name": "LayoutModel",
      "state": {}
     },
     "be06c4ab341d4004bb9ec53990c9c413": {
      "model_module": "@jupyter-widgets/base",
      "model_module_version": "2.0.0",
      "model_name": "LayoutModel",
      "state": {}
     },
     "c622c32f553b40588d9628e032702a37": {
      "model_module": "@jupyter-widgets/controls",
      "model_module_version": "2.0.0",
      "model_name": "ProgressStyleModel",
      "state": {
       "description_width": ""
      }
     },
     "d3d7b5cf48b843fdbaea914d83aeeffc": {
      "model_module": "@jupyter-widgets/controls",
      "model_module_version": "2.0.0",
      "model_name": "FloatProgressModel",
      "state": {
       "bar_style": "success",
       "layout": "IPY_MODEL_be06c4ab341d4004bb9ec53990c9c413",
       "max": 110,
       "style": "IPY_MODEL_c622c32f553b40588d9628e032702a37",
       "value": 110
      }
     },
     "d9b357cd03164b3b8db7a73ee577de2f": {
      "model_module": "@jupyter-widgets/controls",
      "model_module_version": "2.0.0",
      "model_name": "HTMLModel",
      "state": {
       "layout": "IPY_MODEL_44810e310b3044ebaa93d20b393b0316",
       "style": "IPY_MODEL_22be35ab3e9341cd9fe0103836188798",
       "value": "100%"
      }
     }
    },
    "version_major": 2,
    "version_minor": 0
   }
  }
 },
 "nbformat": 4,
 "nbformat_minor": 5
}
