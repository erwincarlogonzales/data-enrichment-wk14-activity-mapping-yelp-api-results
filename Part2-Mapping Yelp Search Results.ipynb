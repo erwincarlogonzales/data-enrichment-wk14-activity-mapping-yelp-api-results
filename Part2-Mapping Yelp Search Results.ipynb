{
 "cells": [
  {
   "cell_type": "markdown",
   "id": "c6d4c9a7",
   "metadata": {
    "id": "8guYh-VR7nlX"
   },
   "source": [
    "# Part 2 - Mapping Yelp Search Results"
   ]
  },
  {
   "cell_type": "markdown",
   "id": "9be6e6c0",
   "metadata": {},
   "source": []
  },
  {
   "cell_type": "markdown",
   "id": "8f1dfbbf",
   "metadata": {},
   "source": [
    "## Obective"
   ]
  },
  {
   "cell_type": "markdown",
   "id": "37daea31",
   "metadata": {
    "id": "8guYh-VR7nlX"
   },
   "source": [
    "- For this CodeAlong, we will be working with the Yelp API results from last class. \n",
    "- You will load in the .csv.gz of your yelp results and prepare the data for visualization.\n",
    "- You will use Plotly Express to create an interactive map with all of the results."
   ]
  },
  {
   "cell_type": "markdown",
   "id": "0a02a2fd",
   "metadata": {
    "id": "8guYh-VR7nlX"
   },
   "source": [
    "## Tools You Will Use\n",
    "- Part 1:\n",
    "    - Yelp API:\n",
    "        - Getting Started: \n",
    "            - https://www.yelp.com/developers/documentation/v3/get_started\n",
    "\n",
    "    - `YelpAPI` python package\n",
    "        -  \"YelpAPI\": https://github.com/gfairchild/yelpapi\n",
    "- Part 2:\n",
    "\n",
    "    - Plotly Express: https://plotly.com/python/getting-started/\n",
    "        - With Mapbox API: https://www.mapbox.com/\n",
    "        - `px.scatter_mapbox` [Documentation](https://plotly.com/python/scattermapbox/): \n",
    "\n",
    "\n"
   ]
  },
  {
   "cell_type": "markdown",
   "id": "a3f15049",
   "metadata": {},
   "source": [
    "### Applying Code From\n",
    "- [Advanced Transformations with Pandas - Part 1](https://login.codingdojo.com/m/376/12529/88086)\n",
    "- [Advanced Transformations with Pandas - Part 2](https://login.codingdojo.com/m/376/12529/88088)"
   ]
  },
  {
   "cell_type": "markdown",
   "id": "745e757f",
   "metadata": {},
   "source": [
    "### Goal"
   ]
  },
  {
   "cell_type": "markdown",
   "id": "a27ea8f9",
   "metadata": {},
   "source": [
    "- We want to create a map with every restaurant plotted as a scatter plot with detailed information that appears when we hover over a business\n",
    "- We will use plotly express's `px.scatter_mapbox` function to accomplish this.\n",
    "    - https://plotly.com/python/scattermapbox/\n",
    "    \n",
    "    - We will need a Mapbox API token for some of the options:\n",
    "        - https://studio.mapbox.com/\n",
    "    "
   ]
  },
  {
   "cell_type": "markdown",
   "id": "8c50b2b6",
   "metadata": {},
   "source": [
    "# Loading Data from Part 1"
   ]
  },
  {
   "cell_type": "code",
   "execution_count": 1,
   "id": "ffa40ba8",
   "metadata": {},
   "outputs": [],
   "source": [
    "## Plotly is not included in your dojo-env\n",
    "!pip install plotly --quiet"
   ]
  },
  {
   "cell_type": "code",
   "execution_count": 2,
   "id": "6c26b323",
   "metadata": {},
   "outputs": [],
   "source": [
    "# Standard Imports\n",
    "import numpy as np\n",
    "import pandas as pd\n",
    "import matplotlib.pyplot as plt\n",
    "import seaborn as sns\n",
    "\n",
    "import json\n",
    "\n",
    "## importing plotly \n",
    "import plotly.express as px"
   ]
  },
  {
   "cell_type": "code",
   "execution_count": 5,
   "id": "73f882e7",
   "metadata": {},
   "outputs": [
    {
     "data": {
      "text/html": [
       "<div>\n",
       "<style scoped>\n",
       "    .dataframe tbody tr th:only-of-type {\n",
       "        vertical-align: middle;\n",
       "    }\n",
       "\n",
       "    .dataframe tbody tr th {\n",
       "        vertical-align: top;\n",
       "    }\n",
       "\n",
       "    .dataframe thead th {\n",
       "        text-align: right;\n",
       "    }\n",
       "</style>\n",
       "<table border=\"1\" class=\"dataframe\">\n",
       "  <thead>\n",
       "    <tr style=\"text-align: right;\">\n",
       "      <th></th>\n",
       "      <th>id</th>\n",
       "      <th>alias</th>\n",
       "      <th>name</th>\n",
       "      <th>image_url</th>\n",
       "      <th>is_closed</th>\n",
       "      <th>url</th>\n",
       "      <th>review_count</th>\n",
       "      <th>categories</th>\n",
       "      <th>rating</th>\n",
       "      <th>coordinates</th>\n",
       "      <th>transactions</th>\n",
       "      <th>location</th>\n",
       "      <th>phone</th>\n",
       "      <th>display_phone</th>\n",
       "      <th>distance</th>\n",
       "      <th>price</th>\n",
       "    </tr>\n",
       "  </thead>\n",
       "  <tbody>\n",
       "    <tr>\n",
       "      <th>0</th>\n",
       "      <td>2jXS4oZkMhAONtd2j7L5Yg</td>\n",
       "      <td>chef-21-sushi-burger-and-korean-bbq-greenville-3</td>\n",
       "      <td>Chef 21 Sushi Burger &amp; Korean BBQ</td>\n",
       "      <td>https://s3-media4.fl.yelpcdn.com/bphoto/TgP5gY...</td>\n",
       "      <td>False</td>\n",
       "      <td>https://www.yelp.com/biz/chef-21-sushi-burger-...</td>\n",
       "      <td>36</td>\n",
       "      <td>[{'alias': 'korean', 'title': 'Korean'}, {'ali...</td>\n",
       "      <td>4.5</td>\n",
       "      <td>{'latitude': 34.847671, 'longitude': -82.394229}</td>\n",
       "      <td>['delivery', 'pickup']</td>\n",
       "      <td>{'address1': '500 E McBee Ave', 'address2': 'S...</td>\n",
       "      <td>1.864263e+10</td>\n",
       "      <td>(864) 263-3018</td>\n",
       "      <td>3341.861901</td>\n",
       "      <td>NaN</td>\n",
       "    </tr>\n",
       "    <tr>\n",
       "      <th>1</th>\n",
       "      <td>RGRk1ioORwm_FIX8PM732Q</td>\n",
       "      <td>konnichiwa-greenville</td>\n",
       "      <td>Konnichiwa</td>\n",
       "      <td>https://s3-media3.fl.yelpcdn.com/bphoto/p47H0_...</td>\n",
       "      <td>False</td>\n",
       "      <td>https://www.yelp.com/biz/konnichiwa-greenville...</td>\n",
       "      <td>68</td>\n",
       "      <td>[{'alias': 'sushi', 'title': 'Sushi Bars'}, {'...</td>\n",
       "      <td>4.1</td>\n",
       "      <td>{'latitude': 34.845952342825115, 'longitude': ...</td>\n",
       "      <td>[]</td>\n",
       "      <td>{'address1': '101 Falls Park Dr', 'address2': ...</td>\n",
       "      <td>1.864252e+10</td>\n",
       "      <td>(864) 252-4436</td>\n",
       "      <td>4184.255183</td>\n",
       "      <td>NaN</td>\n",
       "    </tr>\n",
       "    <tr>\n",
       "      <th>2</th>\n",
       "      <td>zG_XOAFi9Y560WJ1RvghBw</td>\n",
       "      <td>sushi-masa-japanese-restaurant-greenville</td>\n",
       "      <td>Sushi-Masa Japanese Restaurant</td>\n",
       "      <td>https://s3-media1.fl.yelpcdn.com/bphoto/zsRavZ...</td>\n",
       "      <td>False</td>\n",
       "      <td>https://www.yelp.com/biz/sushi-masa-japanese-r...</td>\n",
       "      <td>161</td>\n",
       "      <td>[{'alias': 'sushi', 'title': 'Sushi Bars'}]</td>\n",
       "      <td>4.4</td>\n",
       "      <td>{'latitude': 34.8512725830078, 'longitude': -8...</td>\n",
       "      <td>['delivery']</td>\n",
       "      <td>{'address1': '8590 Pelham Rd', 'address2': 'St...</td>\n",
       "      <td>1.864288e+10</td>\n",
       "      <td>(864) 288-2227</td>\n",
       "      <td>11481.830881</td>\n",
       "      <td>$$</td>\n",
       "    </tr>\n",
       "    <tr>\n",
       "      <th>3</th>\n",
       "      <td>7cJxOV-ANX1qLThK3yV96w</td>\n",
       "      <td>otto-izakaya-greenville-4</td>\n",
       "      <td>Otto Izakaya</td>\n",
       "      <td>https://s3-media1.fl.yelpcdn.com/bphoto/TdPhFy...</td>\n",
       "      <td>False</td>\n",
       "      <td>https://www.yelp.com/biz/otto-izakaya-greenvil...</td>\n",
       "      <td>448</td>\n",
       "      <td>[{'alias': 'japanese', 'title': 'Japanese'}, {...</td>\n",
       "      <td>4.2</td>\n",
       "      <td>{'latitude': 34.8228218820722, 'longitude': -8...</td>\n",
       "      <td>['delivery']</td>\n",
       "      <td>{'address1': '15 Market Point Dr', 'address2':...</td>\n",
       "      <td>1.864569e+10</td>\n",
       "      <td>(864) 568-8009</td>\n",
       "      <td>5933.485357</td>\n",
       "      <td>$$</td>\n",
       "    </tr>\n",
       "    <tr>\n",
       "      <th>4</th>\n",
       "      <td>Kx1x7Kf6C2gtogQErWSu0A</td>\n",
       "      <td>o-ku-greenville</td>\n",
       "      <td>O-Ku</td>\n",
       "      <td>https://s3-media2.fl.yelpcdn.com/bphoto/7dR0xy...</td>\n",
       "      <td>False</td>\n",
       "      <td>https://www.yelp.com/biz/o-ku-greenville?adjus...</td>\n",
       "      <td>38</td>\n",
       "      <td>[{'alias': 'sushi', 'title': 'Sushi Bars'}, {'...</td>\n",
       "      <td>3.9</td>\n",
       "      <td>{'latitude': 34.847954222223294, 'longitude': ...</td>\n",
       "      <td>[]</td>\n",
       "      <td>{'address1': '30 W Broad St', 'address2': None...</td>\n",
       "      <td>1.864326e+10</td>\n",
       "      <td>(864) 326-4812</td>\n",
       "      <td>3931.009612</td>\n",
       "      <td>NaN</td>\n",
       "    </tr>\n",
       "  </tbody>\n",
       "</table>\n",
       "</div>"
      ],
      "text/plain": [
       "                       id                                             alias  \\\n",
       "0  2jXS4oZkMhAONtd2j7L5Yg  chef-21-sushi-burger-and-korean-bbq-greenville-3   \n",
       "1  RGRk1ioORwm_FIX8PM732Q                             konnichiwa-greenville   \n",
       "2  zG_XOAFi9Y560WJ1RvghBw         sushi-masa-japanese-restaurant-greenville   \n",
       "3  7cJxOV-ANX1qLThK3yV96w                         otto-izakaya-greenville-4   \n",
       "4  Kx1x7Kf6C2gtogQErWSu0A                                   o-ku-greenville   \n",
       "\n",
       "                                name  \\\n",
       "0  Chef 21 Sushi Burger & Korean BBQ   \n",
       "1                         Konnichiwa   \n",
       "2     Sushi-Masa Japanese Restaurant   \n",
       "3                       Otto Izakaya   \n",
       "4                               O-Ku   \n",
       "\n",
       "                                           image_url  is_closed  \\\n",
       "0  https://s3-media4.fl.yelpcdn.com/bphoto/TgP5gY...      False   \n",
       "1  https://s3-media3.fl.yelpcdn.com/bphoto/p47H0_...      False   \n",
       "2  https://s3-media1.fl.yelpcdn.com/bphoto/zsRavZ...      False   \n",
       "3  https://s3-media1.fl.yelpcdn.com/bphoto/TdPhFy...      False   \n",
       "4  https://s3-media2.fl.yelpcdn.com/bphoto/7dR0xy...      False   \n",
       "\n",
       "                                                 url  review_count  \\\n",
       "0  https://www.yelp.com/biz/chef-21-sushi-burger-...            36   \n",
       "1  https://www.yelp.com/biz/konnichiwa-greenville...            68   \n",
       "2  https://www.yelp.com/biz/sushi-masa-japanese-r...           161   \n",
       "3  https://www.yelp.com/biz/otto-izakaya-greenvil...           448   \n",
       "4  https://www.yelp.com/biz/o-ku-greenville?adjus...            38   \n",
       "\n",
       "                                          categories  rating  \\\n",
       "0  [{'alias': 'korean', 'title': 'Korean'}, {'ali...     4.5   \n",
       "1  [{'alias': 'sushi', 'title': 'Sushi Bars'}, {'...     4.1   \n",
       "2        [{'alias': 'sushi', 'title': 'Sushi Bars'}]     4.4   \n",
       "3  [{'alias': 'japanese', 'title': 'Japanese'}, {...     4.2   \n",
       "4  [{'alias': 'sushi', 'title': 'Sushi Bars'}, {'...     3.9   \n",
       "\n",
       "                                         coordinates            transactions  \\\n",
       "0   {'latitude': 34.847671, 'longitude': -82.394229}  ['delivery', 'pickup']   \n",
       "1  {'latitude': 34.845952342825115, 'longitude': ...                      []   \n",
       "2  {'latitude': 34.8512725830078, 'longitude': -8...            ['delivery']   \n",
       "3  {'latitude': 34.8228218820722, 'longitude': -8...            ['delivery']   \n",
       "4  {'latitude': 34.847954222223294, 'longitude': ...                      []   \n",
       "\n",
       "                                            location         phone  \\\n",
       "0  {'address1': '500 E McBee Ave', 'address2': 'S...  1.864263e+10   \n",
       "1  {'address1': '101 Falls Park Dr', 'address2': ...  1.864252e+10   \n",
       "2  {'address1': '8590 Pelham Rd', 'address2': 'St...  1.864288e+10   \n",
       "3  {'address1': '15 Market Point Dr', 'address2':...  1.864569e+10   \n",
       "4  {'address1': '30 W Broad St', 'address2': None...  1.864326e+10   \n",
       "\n",
       "    display_phone      distance price  \n",
       "0  (864) 263-3018   3341.861901   NaN  \n",
       "1  (864) 252-4436   4184.255183   NaN  \n",
       "2  (864) 288-2227  11481.830881    $$  \n",
       "3  (864) 568-8009   5933.485357    $$  \n",
       "4  (864) 326-4812   3931.009612   NaN  "
      ]
     },
     "execution_count": 5,
     "metadata": {},
     "output_type": "execute_result"
    }
   ],
   "source": [
    "## Load in csv.gz\n",
    "file = 'Data/final_results_SC_Sushi.csv.gz'\n",
    "\n",
    "# create a dataframe from the file\n",
    "df = pd.read_csv(file, compression = 'gzip')\n",
    "\n",
    "# check the dataframe\n",
    "df.head()"
   ]
  },
  {
   "cell_type": "markdown",
   "id": "182d9a50",
   "metadata": {},
   "source": [
    "## Required Preprocessing "
   ]
  },
  {
   "cell_type": "markdown",
   "id": "9db8a265",
   "metadata": {},
   "source": [
    "- 1. We need to get the latitude and longitude for each business as separate columns.\n",
    "- We also want to be able to show the restaurants:\n",
    "    - name,\n",
    "    - price range\n",
    "    - address\n",
    "    - and if they do delivery or takeout."
   ]
  },
  {
   "cell_type": "markdown",
   "id": "13d541ac",
   "metadata": {},
   "source": [
    "### Separating Latitude and Longitude"
   ]
  },
  {
   "cell_type": "code",
   "execution_count": 6,
   "id": "825c85f0",
   "metadata": {},
   "outputs": [
    {
     "data": {
      "text/html": [
       "<div>\n",
       "<style scoped>\n",
       "    .dataframe tbody tr th:only-of-type {\n",
       "        vertical-align: middle;\n",
       "    }\n",
       "\n",
       "    .dataframe tbody tr th {\n",
       "        vertical-align: top;\n",
       "    }\n",
       "\n",
       "    .dataframe thead th {\n",
       "        text-align: right;\n",
       "    }\n",
       "</style>\n",
       "<table border=\"1\" class=\"dataframe\">\n",
       "  <thead>\n",
       "    <tr style=\"text-align: right;\">\n",
       "      <th></th>\n",
       "      <th>0</th>\n",
       "    </tr>\n",
       "  </thead>\n",
       "  <tbody>\n",
       "    <tr>\n",
       "      <th>0</th>\n",
       "      <td>{'latitude': 34.847671, 'longitude': -82.394229}</td>\n",
       "    </tr>\n",
       "    <tr>\n",
       "      <th>1</th>\n",
       "      <td>{'latitude': 34.845952342825115, 'longitude': ...</td>\n",
       "    </tr>\n",
       "    <tr>\n",
       "      <th>2</th>\n",
       "      <td>{'latitude': 34.8512725830078, 'longitude': -8...</td>\n",
       "    </tr>\n",
       "    <tr>\n",
       "      <th>3</th>\n",
       "      <td>{'latitude': 34.8228218820722, 'longitude': -8...</td>\n",
       "    </tr>\n",
       "    <tr>\n",
       "      <th>4</th>\n",
       "      <td>{'latitude': 34.847954222223294, 'longitude': ...</td>\n",
       "    </tr>\n",
       "    <tr>\n",
       "      <th>...</th>\n",
       "      <td>...</td>\n",
       "    </tr>\n",
       "    <tr>\n",
       "      <th>105</th>\n",
       "      <td>{'latitude': 34.8499166, 'longitude': -82.3335...</td>\n",
       "    </tr>\n",
       "    <tr>\n",
       "      <th>106</th>\n",
       "      <td>{'latitude': 34.8279736, 'longitude': -82.3987...</td>\n",
       "    </tr>\n",
       "    <tr>\n",
       "      <th>107</th>\n",
       "      <td>{'latitude': 34.9476509, 'longitude': -82.2240...</td>\n",
       "    </tr>\n",
       "    <tr>\n",
       "      <th>108</th>\n",
       "      <td>{'latitude': 34.8715143081717, 'longitude': -8...</td>\n",
       "    </tr>\n",
       "    <tr>\n",
       "      <th>109</th>\n",
       "      <td>{'latitude': 34.780454197801, 'longitude': -82...</td>\n",
       "    </tr>\n",
       "  </tbody>\n",
       "</table>\n",
       "<p>110 rows × 1 columns</p>\n",
       "</div>"
      ],
      "text/plain": [
       "                                                     0\n",
       "0     {'latitude': 34.847671, 'longitude': -82.394229}\n",
       "1    {'latitude': 34.845952342825115, 'longitude': ...\n",
       "2    {'latitude': 34.8512725830078, 'longitude': -8...\n",
       "3    {'latitude': 34.8228218820722, 'longitude': -8...\n",
       "4    {'latitude': 34.847954222223294, 'longitude': ...\n",
       "..                                                 ...\n",
       "105  {'latitude': 34.8499166, 'longitude': -82.3335...\n",
       "106  {'latitude': 34.8279736, 'longitude': -82.3987...\n",
       "107  {'latitude': 34.9476509, 'longitude': -82.2240...\n",
       "108  {'latitude': 34.8715143081717, 'longitude': -8...\n",
       "109  {'latitude': 34.780454197801, 'longitude': -82...\n",
       "\n",
       "[110 rows x 1 columns]"
      ]
     },
     "execution_count": 6,
     "metadata": {},
     "output_type": "execute_result"
    }
   ],
   "source": [
    "## use .apply pd.Series to convert a dict to columns\n",
    "df['coordinates'].apply(pd.Series)"
   ]
  },
  {
   "cell_type": "markdown",
   "id": "faecca22",
   "metadata": {},
   "source": [
    "- Why didn't that work???"
   ]
  },
  {
   "cell_type": "code",
   "execution_count": 8,
   "id": "0fb165c6-ebf4-40da-bc7a-6bb54f90dd0e",
   "metadata": {},
   "outputs": [
    {
     "ename": "ValueError",
     "evalue": "Columns must be same length as key",
     "output_type": "error",
     "traceback": [
      "\u001b[1;31m---------------------------------------------------------------------------\u001b[0m",
      "\u001b[1;31mValueError\u001b[0m                                Traceback (most recent call last)",
      "Cell \u001b[1;32mIn[8], line 2\u001b[0m\n\u001b[0;32m      1\u001b[0m \u001b[38;5;66;03m# separate lat and long from the coordinates col\u001b[39;00m\n\u001b[1;32m----> 2\u001b[0m df[[\u001b[38;5;124m'\u001b[39m\u001b[38;5;124mlatitude\u001b[39m\u001b[38;5;124m'\u001b[39m, \u001b[38;5;124m'\u001b[39m\u001b[38;5;124mlongitude\u001b[39m\u001b[38;5;124m'\u001b[39m]] \u001b[38;5;241m=\u001b[39m df[\u001b[38;5;124m'\u001b[39m\u001b[38;5;124mcoordinates\u001b[39m\u001b[38;5;124m'\u001b[39m]\u001b[38;5;241m.\u001b[39mapply(pd\u001b[38;5;241m.\u001b[39mSeries)\n",
      "File \u001b[1;32m~\\anaconda3\\envs\\dojo-env\\lib\\site-packages\\pandas\\core\\frame.py:3968\u001b[0m, in \u001b[0;36mDataFrame.__setitem__\u001b[1;34m(self, key, value)\u001b[0m\n\u001b[0;32m   3966\u001b[0m     \u001b[38;5;28mself\u001b[39m\u001b[38;5;241m.\u001b[39m_setitem_frame(key, value)\n\u001b[0;32m   3967\u001b[0m \u001b[38;5;28;01melif\u001b[39;00m \u001b[38;5;28misinstance\u001b[39m(key, (Series, np\u001b[38;5;241m.\u001b[39mndarray, \u001b[38;5;28mlist\u001b[39m, Index)):\n\u001b[1;32m-> 3968\u001b[0m     \u001b[38;5;28;43mself\u001b[39;49m\u001b[38;5;241;43m.\u001b[39;49m\u001b[43m_setitem_array\u001b[49m\u001b[43m(\u001b[49m\u001b[43mkey\u001b[49m\u001b[43m,\u001b[49m\u001b[43m \u001b[49m\u001b[43mvalue\u001b[49m\u001b[43m)\u001b[49m\n\u001b[0;32m   3969\u001b[0m \u001b[38;5;28;01melif\u001b[39;00m \u001b[38;5;28misinstance\u001b[39m(value, DataFrame):\n\u001b[0;32m   3970\u001b[0m     \u001b[38;5;28mself\u001b[39m\u001b[38;5;241m.\u001b[39m_set_item_frame_value(key, value)\n",
      "File \u001b[1;32m~\\anaconda3\\envs\\dojo-env\\lib\\site-packages\\pandas\\core\\frame.py:4010\u001b[0m, in \u001b[0;36mDataFrame._setitem_array\u001b[1;34m(self, key, value)\u001b[0m\n\u001b[0;32m   4005\u001b[0m \u001b[38;5;28;01melse\u001b[39;00m:\n\u001b[0;32m   4006\u001b[0m     \u001b[38;5;66;03m# Note: unlike self.iloc[:, indexer] = value, this will\u001b[39;00m\n\u001b[0;32m   4007\u001b[0m     \u001b[38;5;66;03m#  never try to overwrite values inplace\u001b[39;00m\n\u001b[0;32m   4009\u001b[0m     \u001b[38;5;28;01mif\u001b[39;00m \u001b[38;5;28misinstance\u001b[39m(value, DataFrame):\n\u001b[1;32m-> 4010\u001b[0m         \u001b[43mcheck_key_length\u001b[49m\u001b[43m(\u001b[49m\u001b[38;5;28;43mself\u001b[39;49m\u001b[38;5;241;43m.\u001b[39;49m\u001b[43mcolumns\u001b[49m\u001b[43m,\u001b[49m\u001b[43m \u001b[49m\u001b[43mkey\u001b[49m\u001b[43m,\u001b[49m\u001b[43m \u001b[49m\u001b[43mvalue\u001b[49m\u001b[43m)\u001b[49m\n\u001b[0;32m   4011\u001b[0m         \u001b[38;5;28;01mfor\u001b[39;00m k1, k2 \u001b[38;5;129;01min\u001b[39;00m \u001b[38;5;28mzip\u001b[39m(key, value\u001b[38;5;241m.\u001b[39mcolumns):\n\u001b[0;32m   4012\u001b[0m             \u001b[38;5;28mself\u001b[39m[k1] \u001b[38;5;241m=\u001b[39m value[k2]\n",
      "File \u001b[1;32m~\\anaconda3\\envs\\dojo-env\\lib\\site-packages\\pandas\\core\\indexers\\utils.py:401\u001b[0m, in \u001b[0;36mcheck_key_length\u001b[1;34m(columns, key, value)\u001b[0m\n\u001b[0;32m    399\u001b[0m \u001b[38;5;28;01mif\u001b[39;00m columns\u001b[38;5;241m.\u001b[39mis_unique:\n\u001b[0;32m    400\u001b[0m     \u001b[38;5;28;01mif\u001b[39;00m \u001b[38;5;28mlen\u001b[39m(value\u001b[38;5;241m.\u001b[39mcolumns) \u001b[38;5;241m!=\u001b[39m \u001b[38;5;28mlen\u001b[39m(key):\n\u001b[1;32m--> 401\u001b[0m         \u001b[38;5;28;01mraise\u001b[39;00m \u001b[38;5;167;01mValueError\u001b[39;00m(\u001b[38;5;124m\"\u001b[39m\u001b[38;5;124mColumns must be same length as key\u001b[39m\u001b[38;5;124m\"\u001b[39m)\n\u001b[0;32m    402\u001b[0m \u001b[38;5;28;01melse\u001b[39;00m:\n\u001b[0;32m    403\u001b[0m     \u001b[38;5;66;03m# Missing keys in columns are represented as -1\u001b[39;00m\n\u001b[0;32m    404\u001b[0m     \u001b[38;5;28;01mif\u001b[39;00m \u001b[38;5;28mlen\u001b[39m(columns\u001b[38;5;241m.\u001b[39mget_indexer_non_unique(key)[\u001b[38;5;241m0\u001b[39m]) \u001b[38;5;241m!=\u001b[39m \u001b[38;5;28mlen\u001b[39m(value\u001b[38;5;241m.\u001b[39mcolumns):\n",
      "\u001b[1;31mValueError\u001b[0m: Columns must be same length as key"
     ]
    }
   ],
   "source": [
    "# separate lat and long from the coordinates col\n",
    "df[['latitude', 'longitude']] = df['coordinates'].apply(pd.Series)"
   ]
  },
  {
   "cell_type": "code",
   "execution_count": null,
   "id": "4c52b779",
   "metadata": {},
   "outputs": [],
   "source": [
    "## slice out a single test coordinate\n",
    "test_coord = None\n",
    "test_coord"
   ]
  },
  {
   "cell_type": "markdown",
   "id": "819d8252",
   "metadata": {},
   "source": [
    "- Its not a dictionary anymore!!! WTF??\n",
    "    - CSV files cant store iterables (lists, dictionaries) so they get converted to strings."
   ]
  },
  {
   "cell_type": "markdown",
   "id": "df7e7c71",
   "metadata": {},
   "source": [
    "### Fixing the String-Dictionaries"
   ]
  },
  {
   "cell_type": "markdown",
   "id": "76185b76",
   "metadata": {},
   "source": [
    "- The json module has another version of load and dump called `json.loads` and `json.dumps`\n",
    "    - These are designed to process STRINGS instead of files. \n",
    "    \n",
    "- If we use `json.loads` we can convert our string dictionary into an actual dictionary. "
   ]
  },
  {
   "cell_type": "code",
   "execution_count": null,
   "id": "8e4ab9ed",
   "metadata": {},
   "outputs": [],
   "source": [
    "## Use json.loads on the test coordinate\n"
   ]
  },
  {
   "cell_type": "markdown",
   "id": "89771042",
   "metadata": {},
   "source": [
    "- JSON requires double quotes!"
   ]
  },
  {
   "cell_type": "code",
   "execution_count": null,
   "id": "25a459c3",
   "metadata": {},
   "outputs": [],
   "source": [
    "## replace single ' with \" \n"
   ]
  },
  {
   "cell_type": "code",
   "execution_count": null,
   "id": "baf7b4ce",
   "metadata": {},
   "outputs": [],
   "source": [
    "## Use json.loads on the test coordinate, again\n"
   ]
  },
  {
   "cell_type": "markdown",
   "id": "ac9a2c61",
   "metadata": {},
   "source": [
    "### Now, how can we apply this same process to the entire column??"
   ]
  },
  {
   "cell_type": "code",
   "execution_count": null,
   "id": "815d26be",
   "metadata": {},
   "outputs": [],
   "source": [
    "## replace ' with \" (entire column)\n",
    "\n",
    "## apply json.loads\n"
   ]
  },
  {
   "cell_type": "code",
   "execution_count": null,
   "id": "b417c990",
   "metadata": {},
   "outputs": [],
   "source": [
    "## slice out a single test coordinate\n"
   ]
  },
  {
   "cell_type": "markdown",
   "id": "a825c2f4",
   "metadata": {},
   "source": [
    "### Using Apply with pd.Series to convert a dictionary column into multiple columns"
   ]
  },
  {
   "cell_type": "code",
   "execution_count": null,
   "id": "9b06ad2c",
   "metadata": {},
   "outputs": [],
   "source": [
    "## use .apply pd.Series to convert a dict to columns\n",
    "df['coordinates'].apply(pd.Series)"
   ]
  },
  {
   "cell_type": "code",
   "execution_count": null,
   "id": "a09d00b1",
   "metadata": {},
   "outputs": [],
   "source": [
    "## Concatenate the 2 new columns and drop the original.\n"
   ]
  },
  {
   "cell_type": "markdown",
   "id": "56b25f7a",
   "metadata": {},
   "source": [
    "## Creating a Simple Map"
   ]
  },
  {
   "cell_type": "markdown",
   "id": "cd5bc110",
   "metadata": {},
   "source": [
    "### Register for MapBox API"
   ]
  },
  {
   "cell_type": "markdown",
   "id": "73c91d8f",
   "metadata": {},
   "source": [
    "Mapbox API: https://www.mapbox.com/"
   ]
  },
  {
   "cell_type": "code",
   "execution_count": null,
   "id": "2e9b4e94",
   "metadata": {},
   "outputs": [],
   "source": [
    "## Load in mapbox api credentials from .secret\n"
   ]
  },
  {
   "cell_type": "markdown",
   "id": "cdb5689c",
   "metadata": {},
   "source": [
    "- Use the plotly express `set_maptbox_acccess_token` function"
   ]
  },
  {
   "cell_type": "code",
   "execution_count": null,
   "id": "7bf3a1c1",
   "metadata": {},
   "outputs": [],
   "source": [
    "## set mapbox token\n"
   ]
  },
  {
   "cell_type": "code",
   "execution_count": null,
   "id": "2214befe",
   "metadata": {},
   "outputs": [],
   "source": [
    "## use scatter_mapbox for M.V.P map\n"
   ]
  },
  {
   "cell_type": "markdown",
   "id": "d5b72ef0",
   "metadata": {},
   "source": [
    "### Adding Hover Data"
   ]
  },
  {
   "cell_type": "markdown",
   "id": "300eddca",
   "metadata": {},
   "source": [
    "- We want to show the restaurants:\n",
    "    - name\n",
    "    - price range\n",
    "    - address\n",
    "    - and if they do delivery or takeout.\n",
    "    \n",
    "    \n",
    "- We can use the `hover_name` and `hover_data` arguments for `px.scatter_mapbox` to add this info!"
   ]
  },
  {
   "cell_type": "code",
   "execution_count": null,
   "id": "46a7ef9e",
   "metadata": {},
   "outputs": [],
   "source": []
  },
  {
   "cell_type": "code",
   "execution_count": null,
   "id": "e05e4e1b",
   "metadata": {
    "scrolled": true
   },
   "outputs": [],
   "source": [
    "## add hover_name (name) and hover_data for price,rating,location\n"
   ]
  },
  {
   "cell_type": "markdown",
   "id": "09d744ca",
   "metadata": {},
   "source": [
    "### Fixing the Location Column"
   ]
  },
  {
   "cell_type": "code",
   "execution_count": null,
   "id": "15e6afdc",
   "metadata": {},
   "outputs": [],
   "source": [
    "## slice out a test address\n"
   ]
  },
  {
   "cell_type": "markdown",
   "id": "b573de0f",
   "metadata": {},
   "source": [
    "> Also a string-dictionary..."
   ]
  },
  {
   "cell_type": "code",
   "execution_count": null,
   "id": "e5862a23",
   "metadata": {},
   "outputs": [],
   "source": [
    "## replace ' with \"\n",
    "df['location'] = df['location'].str.replace(\"'\", '\"')\n",
    "df"
   ]
  },
  {
   "cell_type": "code",
   "execution_count": null,
   "id": "1606ed4a",
   "metadata": {},
   "outputs": [],
   "source": [
    "## apply json.loads\n"
   ]
  },
  {
   "cell_type": "markdown",
   "id": "6e3fc5c2",
   "metadata": {},
   "source": [
    "> Ruh roh....\n",
    "\n",
    "- Hmm, let's slice out a test_address again and let's write a function to accomplish this instead.\n",
    "    - We can use try and except in our function to get around the errors."
   ]
  },
  {
   "cell_type": "markdown",
   "id": "b0fe3a7a",
   "metadata": {},
   "source": [
    "### Fixing Addresses - with a custom function\n"
   ]
  },
  {
   "cell_type": "code",
   "execution_count": null,
   "id": "b1964520",
   "metadata": {},
   "outputs": [],
   "source": [
    "## slice out test address \n",
    "test_addr = df.loc[0, 'location']\n",
    "test_addr"
   ]
  },
  {
   "cell_type": "code",
   "execution_count": null,
   "id": "89ee686e",
   "metadata": {},
   "outputs": [],
   "source": [
    "## write a function to just run json.loads on the address\n"
   ]
  },
  {
   "cell_type": "code",
   "execution_count": null,
   "id": "0d25f01b",
   "metadata": {},
   "outputs": [],
   "source": [
    "## test applying our function\n"
   ]
  },
  {
   "cell_type": "markdown",
   "id": "c8cbc436",
   "metadata": {},
   "source": [
    "- It worked! Now let's save this as a new column (display_location),\n",
    "and then let's investigate the businesses that had an \"ERROR\"."
   ]
  },
  {
   "cell_type": "code",
   "execution_count": null,
   "id": "49a511e8",
   "metadata": {},
   "outputs": [],
   "source": [
    "### save a new display_location column using our function\n"
   ]
  },
  {
   "cell_type": "code",
   "execution_count": null,
   "id": "346a2869",
   "metadata": {},
   "outputs": [],
   "source": [
    "## filter for businesses with display_location == \"ERROR\"\n"
   ]
  },
  {
   "cell_type": "code",
   "execution_count": null,
   "id": "9c115199",
   "metadata": {},
   "outputs": [],
   "source": [
    "## slice out a new test address and inspect\n",
    "test_addr = df.loc[437, 'location']\n",
    "test_addr"
   ]
  },
  {
   "cell_type": "markdown",
   "id": "448fa8c6",
   "metadata": {},
   "source": [
    "> After some more investigation, we would find a few issues with these \"ERROR\" rows.\n",
    "1. They contained None.\n",
    "2. They contained an apostrophe in the name.\n",
    "3. ...?"
   ]
  },
  {
   "cell_type": "markdown",
   "id": "68a960d4",
   "metadata": {},
   "source": [
    "### Possible Fixes (if we care to/have the time)\n"
   ]
  },
  {
   "cell_type": "markdown",
   "id": "7c21eda1",
   "metadata": {},
   "source": [
    "- Use Regular Expressions to find an fix the display addresses with \"'\" in them\n",
    "- Use string split to split on the word display address.\n",
    "    - Then use string methods to clean up"
   ]
  },
  {
   "cell_type": "markdown",
   "id": "df8d68fb",
   "metadata": {},
   "source": [
    "### Moving Forward without those rows (for now)"
   ]
  },
  {
   "cell_type": "code",
   "execution_count": null,
   "id": "bddbcc87",
   "metadata": {},
   "outputs": [],
   "source": [
    "## remove any rows where display_location == 'ERROR'\n"
   ]
  },
  {
   "cell_type": "markdown",
   "id": "c1338cd2",
   "metadata": {},
   "source": [
    "- We want the \"display_address\" key from the \"display_location\" dictionaries.\n",
    "- We could use a .apply and a lamda to slice out the desired key."
   ]
  },
  {
   "cell_type": "code",
   "execution_count": null,
   "id": "82544b10",
   "metadata": {},
   "outputs": [],
   "source": [
    "## use apply and lambda to slice correct key\n"
   ]
  },
  {
   "cell_type": "markdown",
   "id": "c65a79ab",
   "metadata": {},
   "source": [
    "- Almost done! We want to convert display_address to a string instead a list of strings.\n",
    "- We can use the string method .join to do so!"
   ]
  },
  {
   "cell_type": "code",
   "execution_count": null,
   "id": "5f64f1dd",
   "metadata": {},
   "outputs": [],
   "source": [
    "## slice out a test_address\n"
   ]
  },
  {
   "cell_type": "code",
   "execution_count": null,
   "id": "876bb98e",
   "metadata": {},
   "outputs": [],
   "source": [
    "## test using .join with a \"\\n\"\n"
   ]
  },
  {
   "cell_type": "code",
   "execution_count": null,
   "id": "55a6176d",
   "metadata": {
    "scrolled": true
   },
   "outputs": [],
   "source": [
    "## apply the join to every row with a lambda\n"
   ]
  },
  {
   "cell_type": "markdown",
   "id": "09b90087",
   "metadata": {},
   "source": [
    "### Final Map"
   ]
  },
  {
   "cell_type": "code",
   "execution_count": null,
   "id": "0afd236d",
   "metadata": {},
   "outputs": [],
   "source": [
    "## make ourn final map and save as varaible\n"
   ]
  },
  {
   "cell_type": "markdown",
   "id": "47e93ee3",
   "metadata": {},
   "source": [
    "#### HTML Uses `<br>` instead of `\\n`"
   ]
  },
  {
   "cell_type": "code",
   "execution_count": null,
   "id": "d2758626",
   "metadata": {},
   "outputs": [],
   "source": [
    "## remake the final address column with <br> instead \n",
    "\n",
    "## plot the final map"
   ]
  },
  {
   "cell_type": "code",
   "execution_count": null,
   "id": "79e43699",
   "metadata": {},
   "outputs": [],
   "source": [
    "## use fig.write_html to save map\n"
   ]
  }
 ],
 "metadata": {
  "kernelspec": {
   "display_name": "Python (dojo-env)",
   "language": "python",
   "name": "dojo-env"
  },
  "language_info": {
   "codemirror_mode": {
    "name": "ipython",
    "version": 3
   },
   "file_extension": ".py",
   "mimetype": "text/x-python",
   "name": "python",
   "nbconvert_exporter": "python",
   "pygments_lexer": "ipython3",
   "version": "3.10.10"
  },
  "toc": {
   "base_numbering": 1,
   "nav_menu": {},
   "number_sections": false,
   "sideBar": true,
   "skip_h1_title": false,
   "title_cell": "Table of Contents",
   "title_sidebar": "Contents",
   "toc_cell": false,
   "toc_position": {
    "height": "calc(100% - 180px)",
    "left": "10px",
    "top": "150px",
    "width": "299.195px"
   },
   "toc_section_display": true,
   "toc_window_display": true
  },
  "widgets": {
   "application/vnd.jupyter.widget-state+json": {
    "state": {},
    "version_major": 2,
    "version_minor": 0
   }
  }
 },
 "nbformat": 4,
 "nbformat_minor": 5
}
