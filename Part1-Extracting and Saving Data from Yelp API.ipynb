{
 "cells": [
  {
   "cell_type": "markdown",
   "metadata": {
    "id": "8guYh-VR7nlX"
   },
   "source": [
    "# Part 1 - Extracting and Saving Data from Yelp API"
   ]
  },
  {
   "cell_type": "markdown",
   "metadata": {},
   "source": [
    "## Obective"
   ]
  },
  {
   "cell_type": "markdown",
   "metadata": {
    "id": "8guYh-VR7nlX"
   },
   "source": [
    "- For this CodeAlong, we will be working with the Yelp API. \n",
    "- You will use the the Yelp API to search your home town for a cuisine type of your choice.\n",
    "- Next class, we will then use Plotly Express to create a map with the Mapbox API to visualize the results.\n",
    "    \n",
    "    "
   ]
  },
  {
   "cell_type": "markdown",
   "metadata": {
    "id": "8guYh-VR7nlX"
   },
   "source": [
    "## Tools You Will Use\n",
    "- Part 1:\n",
    "    - Yelp API:\n",
    "        - Getting Started: \n",
    "            - https://www.yelp.com/developers/documentation/v3/get_started\n",
    "\n",
    "    - `YelpAPI` python package\n",
    "        -  \"YelpAPI\": https://github.com/gfairchild/yelpapi\n",
    "- Part 2:\n",
    "\n",
    "    - Plotly Express: https://plotly.com/python/getting-started/\n",
    "        - With Mapbox API: https://www.mapbox.com/\n",
    "        - `px.scatter_mapbox` [Documentation](https://plotly.com/python/scattermapbox/): \n",
    "\n",
    "\n"
   ]
  },
  {
   "cell_type": "markdown",
   "metadata": {},
   "source": [
    "### Applying Code From\n",
    "- Efficient API Calls Lesson Link: https://login.codingdojo.com/m/376/12529/88078"
   ]
  },
  {
   "cell_type": "code",
   "execution_count": null,
   "metadata": {},
   "outputs": [],
   "source": [
    "# Standard Imports\n",
    "import numpy as np\n",
    "import pandas as pd\n",
    "import matplotlib.pyplot as plt\n",
    "import seaborn as sns\n",
    "\n",
    "# Additional Imports\n",
    "import os, json, math, time\n",
    "from yelpapi import YelpAPI\n",
    "from tqdm.notebook import tqdm_notebook"
   ]
  },
  {
   "cell_type": "code",
   "execution_count": null,
   "metadata": {},
   "outputs": [],
   "source": [
    "!pip install yelpapi --quiet"
   ]
  },
  {
   "cell_type": "markdown",
   "metadata": {
    "id": "1l3Z-79nBSX9"
   },
   "source": [
    "## 1. Registering for Required APIs"
   ]
  },
  {
   "cell_type": "markdown",
   "metadata": {
    "id": "1l3Z-79nBSX9"
   },
   "source": [
    "\n",
    "- Yelp: https://www.yelp.com/developers/documentation/v3/get_started\n"
   ]
  },
  {
   "cell_type": "markdown",
   "metadata": {},
   "source": [
    "> Check the official API documentation to know what arguments we can search for: https://www.yelp.com/developers/documentation/v3/business_search"
   ]
  },
  {
   "cell_type": "markdown",
   "metadata": {},
   "source": [
    "### Load Credentials and Create Yelp API Object"
   ]
  },
  {
   "cell_type": "code",
   "execution_count": null,
   "metadata": {},
   "outputs": [],
   "source": [
    "# create a relative filepath\n",
    "# import json\n",
    "# import os\n",
    "\n",
    "relative_path = os.path.join('.secret', 'yelp_api.json')"
   ]
  },
  {
   "cell_type": "code",
   "execution_count": null,
   "metadata": {
    "ExecuteTime": {
     "end_time": "2022-03-25T18:20:46.629934Z",
     "start_time": "2022-03-25T18:20:45.915864Z"
    },
    "colab": {
     "base_uri": "https://localhost:8080/"
    },
    "id": "xJYqVvNkE36a",
    "outputId": "67798160-dea2-41fc-9040-2b3833efa560"
   },
   "outputs": [],
   "source": [
    "# Load API Credentials\n",
    "with open(relative_path) as file:\n",
    "    login = json.load(file)\n",
    "\n",
    "print(login.keys())"
   ]
  },
  {
   "cell_type": "code",
   "execution_count": null,
   "metadata": {},
   "outputs": [],
   "source": [
    "# Instantiate YelpAPI Variable\n",
    "yelp_api = YelpAPI(login['api-key'], timeout_s = 5.0)\n",
    "yelp_api"
   ]
  },
  {
   "cell_type": "markdown",
   "metadata": {},
   "source": [
    "### Define Search Terms and File Paths"
   ]
  },
  {
   "cell_type": "code",
   "execution_count": null,
   "metadata": {},
   "outputs": [],
   "source": [
    "# set our API call parameters and filename before the first call\n",
    "LOCATION = 'Greenville, SC'\n",
    "TERM = 'Sushi'\n",
    "\n",
    "# filename for saving the data\n",
    "# json_filename = 'yelp_search_resuls.json'"
   ]
  },
  {
   "cell_type": "code",
   "execution_count": null,
   "metadata": {},
   "outputs": [],
   "source": [
    "## Specify fodler for saving data\n",
    "# folder_path = r\"D:\\Documents\\GitHub\\data-enrichment-wk14-activity-mapping-yelp-api-results\"\n",
    "\n",
    "# Specifying JSON_FILE filename (can include a folder) => combine the folder path and filename\n",
    "JSON_FILE = f'/Data/results_SC_Sushi.json'\n",
    "\n",
    "print(f'data will be saved to: {JSON_FILE}')"
   ]
  },
  {
   "cell_type": "markdown",
   "metadata": {},
   "source": [
    "### Check if Json File exists and Create it if it doesn't"
   ]
  },
  {
   "cell_type": "code",
   "execution_count": null,
   "metadata": {},
   "outputs": [],
   "source": [
    "## Check if JSON_FILE exists\n",
    "file_exists = os.path.isfile(JSON_FILE)\n",
    "\n",
    "## If it does not exist:\n",
    "if file_exists == False:\n",
    "    \n",
    "    ## CREATE ANY NEEDED FOLDERS\n",
    "    # Get the Folder Name only\n",
    "    folder = os.path.dirname(JSON_FILE)\n",
    "    \n",
    "    ## If JSON_FILE included a folder:\n",
    "    if len(folder) > 0:\n",
    "        # create the folder\n",
    "        os.makedirs(folder, exist_ok = True)\n",
    "        \n",
    "    ## INFORM USER AND SAVE EMPTY LIST\n",
    "    print(f'[i] {JSON_FILE} not found. Saving empty list to file.')\n",
    "    \n",
    "    ## save the first page of results\n",
    "    with open(JSON_FILE, 'w') as file:\n",
    "        json.dump([], file)\n",
    "        \n",
    "## If it exists, inform user\n",
    "else:\n",
    "    print(f'[i] {JSON_FILE} already exits.')"
   ]
  },
  {
   "cell_type": "markdown",
   "metadata": {},
   "source": [
    "### Load JSON FIle and account for previous results"
   ]
  },
  {
   "cell_type": "code",
   "execution_count": null,
   "metadata": {},
   "outputs": [],
   "source": [
    "## Load previous results and use len of results for offset\n",
    "with open(JSON_FILE, 'r') as file:\n",
    "    previous_results = json.load(file)\n",
    "    \n",
    "## set offset based on previous results\n",
    "n_results = len(previous_results)\n",
    "\n",
    "print(f'- {n_results} previous results found.')"
   ]
  },
  {
   "cell_type": "markdown",
   "metadata": {},
   "source": [
    "### Make the first API call to get the first page of data"
   ]
  },
  {
   "cell_type": "markdown",
   "metadata": {},
   "source": [
    "- We will use this first result to check:\n",
    "    - how many total results there are?\n",
    "    - Where is the actual data we want to save?\n",
    "    - how many results do we get at a time?\n"
   ]
  },
  {
   "cell_type": "code",
   "execution_count": null,
   "metadata": {},
   "outputs": [],
   "source": [
    "# use our yelp_api variable's search_query method to perform our API call\n",
    "results = yelp_api.search_query(location = LOCATION,\n",
    "                                term = TERM,\n",
    "                                offset = n_results)\n",
    "\n",
    "results.keys()"
   ]
  },
  {
   "cell_type": "code",
   "execution_count": null,
   "metadata": {
    "ExecuteTime": {
     "end_time": "2022-03-24T20:01:48.867510Z",
     "start_time": "2022-03-24T20:01:48.854746Z"
    },
    "colab": {
     "base_uri": "https://localhost:8080/"
    },
    "id": "Myur3i1KGhPf",
    "outputId": "f447c6f9-596b-41d0-ccda-50af0ce82108"
   },
   "outputs": [],
   "source": [
    "## How many results total?\n",
    "total_results = results['total']\n",
    "\n",
    "total_results"
   ]
  },
  {
   "cell_type": "markdown",
   "metadata": {},
   "source": [
    "- Where is the actual data we want to save?"
   ]
  },
  {
   "cell_type": "code",
   "execution_count": null,
   "metadata": {},
   "outputs": [],
   "source": [
    "business_data = results['businesses']\n",
    "\n",
    "# specify the filename where you want to save the data\n",
    "json_file_path = JSON_FILE\n",
    "\n",
    "# save the business data to a JSON file\n",
    "with open(json_file_path, 'w') as file:\n",
    "    json.dump(business_data, file, indent = 4)"
   ]
  },
  {
   "cell_type": "code",
   "execution_count": null,
   "metadata": {},
   "outputs": [],
   "source": [
    "## How many did we get the details for?\n",
    "results_per_page = len(business_data)\n",
    "print(f'number of results retrieved per page', results_per_page)"
   ]
  },
  {
   "cell_type": "markdown",
   "metadata": {},
   "source": [
    "- Calculate how many pages of results needed to cover the total_results"
   ]
  },
  {
   "cell_type": "code",
   "execution_count": null,
   "metadata": {},
   "outputs": [],
   "source": [
    "# Use math.ceil to round up for the total number of pages of results.\n",
    "n_pages = math.ceil(total_results / results_per_page)\n",
    "\n",
    "print(f'Total number of pages: {n_pages}')"
   ]
  },
  {
   "cell_type": "code",
   "execution_count": null,
   "metadata": {},
   "outputs": [],
   "source": [
    "for i in tqdm_notebook(range(1, n_pages + 1)):\n",
    "\n",
    "    ## The block of code we want to TRY to run\n",
    "    try:        \n",
    "        # Introduce a short delay to respect API rate limits\n",
    "        time.sleep(0.2)\n",
    "        \n",
    "        ## Read in results in progress file and check the length\n",
    "        with open(JSON_FILE, 'r') as file:\n",
    "            previous_results = json.load(file)\n",
    "        \n",
    "        ## Save number of results to use as offset\n",
    "        n_results = len(previous_results)\n",
    "        \n",
    "        ## Use n_results as the OFFSET \n",
    "        results = yelp_api.search_query(location=LOCATION,\n",
    "                                        term=TERM,\n",
    "                                        offset=n_results)\n",
    "\n",
    "        ## Append new results and save to file\n",
    "        previous_results.extend(results['businesses'])\n",
    "        with open(JSON_FILE, 'w') as file:\n",
    "            json.dump(previous_results, file)\n",
    "            \n",
    "    ## What to do if we get an error/exception.\n",
    "    except Exception as e:\n",
    "        # check if we are at rate limit\n",
    "        if 'Too Many Requests for url' in str(e):\n",
    "            print('Rate limit exceeded. Stop data collection.')\n",
    "            break\n",
    "        else:\n",
    "            print(f'an error occured {e}')\n",
    "            # optionally handle error differently\n",
    "            continue\n"
   ]
  },
  {
   "cell_type": "markdown",
   "metadata": {},
   "source": [
    "## Open the Final JSON File with Pandas"
   ]
  },
  {
   "cell_type": "code",
   "execution_count": null,
   "metadata": {},
   "outputs": [],
   "source": [
    "df = pd.read_json(JSON_FILE)\n",
    "display(df.head(), df.tail())"
   ]
  },
  {
   "cell_type": "code",
   "execution_count": null,
   "metadata": {},
   "outputs": [],
   "source": [
    "## convert the filename to a .csv.gz\n",
    "csv_file = JSON_FILE.replace('.json','.csv.gz')\n",
    "csv_file"
   ]
  },
  {
   "cell_type": "code",
   "execution_count": null,
   "metadata": {},
   "outputs": [],
   "source": [
    "# specify directory and filename\n",
    "directory = 'Data'\n",
    "filename = 'final_results_SC_Sushi'\n",
    "path = os.path.join(directory, filename)\n",
    "\n",
    "# ensure that the 'Data' directory exists\n",
    "os.makedirs(directory, exist_ok = True)\n",
    "\n",
    "## Save it as a compressed csv (to save space)\n",
    "df.to_csv(path, compression = 'gzip', index = False)"
   ]
  },
  {
   "cell_type": "markdown",
   "metadata": {},
   "source": [
    "## Bonus: compare filesize with os module's `os.path.getsize`"
   ]
  },
  {
   "cell_type": "code",
   "execution_count": null,
   "metadata": {},
   "outputs": [],
   "source": [
    "# # compare filesize with os module's os.path.getsize\n",
    "# size_json = os.path.getsize(JSON_FILE)\n",
    "# size_csv_gz = os.path.getsize(JSON_FILE.replace('.json','.csv.gz'))\n",
    "\n",
    "# print(f'JSON FILE: {size_json:,} Bytes')\n",
    "# print(f'CSV.GZ FILE: {size_csv_gz:,} Bytes')\n",
    "\n",
    "# print(f'the csv.gz is {size_json/size_csv_gz} times smaller!')\n",
    "\n",
    "# Define the paths to the JSON and CSV.GZ files directly\n",
    "json_file_path = 'Data/final_results_SC_Sushi.json'  # Update this path as necessary\n",
    "csv_gz_file_path = 'Data/final_results_SC_Sushi.csv.gz'  # Update this path as necessary\n",
    "\n",
    "# Check if both files exist\n",
    "if os.path.exists(json_file_path) and os.path.exists(csv_gz_file_path):\n",
    "    # Get the sizes of the files\n",
    "    size_json = os.path.getsize(json_file_path)\n",
    "    size_csv_gz = os.path.getsize(csv_gz_file_path)\n",
    "\n",
    "    # Print file sizes\n",
    "    print(f'JSON FILE: {size_json:,} Bytes')\n",
    "    print(f'CSV.GZ FILE: {size_csv_gz:,} Bytes')\n",
    "\n",
    "    # Compare the sizes and avoid division by zero\n",
    "    if size_csv_gz > 0:\n",
    "        compression_ratio = size_json / size_csv_gz\n",
    "        print(f'The csv.gz file is {compression_ratio:.2f} times smaller than the JSON file.')\n",
    "    else:\n",
    "        print(\"CSV.GZ file size is 0, cannot compare sizes.\")\n",
    "else:\n",
    "    print(\"One or both files do not exist, check file paths.\")\n"
   ]
  },
  {
   "cell_type": "markdown",
   "metadata": {},
   "source": [
    "## Next Class: Processing the Results and Mapping "
   ]
  }
 ],
 "metadata": {
  "colab": {
   "collapsed_sections": [],
   "name": "Test Yelp API Package.ipynb",
   "provenance": []
  },
  "kernelspec": {
   "display_name": "Python (dojo-env)",
   "language": "python",
   "name": "dojo-env"
  },
  "language_info": {
   "codemirror_mode": {
    "name": "ipython",
    "version": 3
   },
   "file_extension": ".py",
   "mimetype": "text/x-python",
   "name": "python",
   "nbconvert_exporter": "python",
   "pygments_lexer": "ipython3",
   "version": "3.10.10"
  },
  "toc": {
   "base_numbering": 1,
   "nav_menu": {},
   "number_sections": false,
   "sideBar": true,
   "skip_h1_title": false,
   "title_cell": "Table of Contents",
   "title_sidebar": "Contents",
   "toc_cell": false,
   "toc_position": {},
   "toc_section_display": true,
   "toc_window_display": true
  },
  "widgets": {
   "application/vnd.jupyter.widget-state+json": {
    "state": {},
    "version_major": 2,
    "version_minor": 0
   }
  }
 },
 "nbformat": 4,
 "nbformat_minor": 4
}
